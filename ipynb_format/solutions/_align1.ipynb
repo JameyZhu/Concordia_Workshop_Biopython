{
 "cells": [
  {
   "cell_type": "markdown",
   "metadata": {},
   "source": [
    "The last line of the Trace back indicate:\n",
    "\n",
    "> ValueError: Repeated name 'PGSC0003DM' (originally 'PGSC0003DMP400060824'), possibly due to truncation\n",
    "\n",
    "Which means that for the 'phylip' format only a 10 characters string could be use as id. And if the `SeqRecord` id is longer only the first 10 charater will be retain. In our case the 10 first character of the peptide sequences names are identical which won't work !"
   ]
  }
 ],
 "metadata": {},
 "nbformat": 4,
 "nbformat_minor": 0
}
