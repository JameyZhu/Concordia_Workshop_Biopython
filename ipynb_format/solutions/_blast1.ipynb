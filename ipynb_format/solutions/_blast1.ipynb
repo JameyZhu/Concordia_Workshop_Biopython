{
 "cells": [
  {
   "cell_type": "markdown",
   "metadata": {},
   "source": [
    "when you are using a handler, it is, in fact, just a connection which points to a specific position in an open file. So when the file have been read entirely or if you just want to point to the a specific position you could use the method seek to change the position of the pointer.\n",
    "\n",
    "`.seek(0)` just replace the pointer at the begining of the file and is equivalent of doing `.close()` then `.open()`."
   ]
  }
 ],
 "metadata": {},
 "nbformat": 4,
 "nbformat_minor": 0
}
