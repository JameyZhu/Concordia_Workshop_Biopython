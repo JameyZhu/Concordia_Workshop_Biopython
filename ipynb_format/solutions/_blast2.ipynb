{
 "cells": [
  {
   "cell_type": "markdown",
   "metadata": {},
   "source": [
    "The quantity of BLAST results. \n",
    "\n",
    "If our BLAST file is huge though, we may run into memory problems trying to save them all in a list.\n",
    "\n",
    "Usually, we’ll be running one BLAST search at a time. Then, all we need to do is to pick up the first BLAST record in blast_records:\n",
    "\n"
    ]
  },
  {
   "cell_type": "code",
   "execution_count": null,
   "metadata": {},
   "outputs": [],
   "source": [
    "result_handle.seek(0)\n",
    "blast_records = NCBIXML.parse(result_handle)\n",
    "blast_record = next(blast_records)\n",
   ]
  }
 ],
 "metadata": {},
 "nbformat": 4,
 "nbformat_minor": 0
}
